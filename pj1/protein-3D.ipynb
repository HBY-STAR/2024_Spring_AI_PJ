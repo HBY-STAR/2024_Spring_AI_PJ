{
 "cells": [
  {
   "cell_type": "markdown",
   "metadata": {
    "id": "r3qznmgak2XM"
   },
   "source": [
    "# View protein structure in 3D\n",
    "\n",
    "More visualization options [here](https://colab.research.google.com/drive/1T2zR59TXyWRcNxRgOAiqVPJWhep83NV_?usp=sharing#scrollTo=0N6PEYCyGx5g)."
   ]
  },
  {
   "cell_type": "markdown",
   "source": [
    "! pip install -q biopython\n",
    "! pip install -q py3Dmol"
   ],
   "metadata": {
    "collapsed": false
   }
  },
  {
   "cell_type": "code",
   "execution_count": 54,
   "metadata": {
    "executionInfo": {
     "elapsed": 135,
     "status": "ok",
     "timestamp": 1644112153217,
     "user": {
      "displayName": "Michael Duprey",
      "photoUrl": "https://lh3.googleusercontent.com/a-/AOh14GhbSFcjL36v0OKLBQ3jUFBauo0tBLUD-KT_zCMchw=s64",
      "userId": "05498947526580544465"
     },
     "user_tz": 420
    },
    "id": "u5yvkkN3AJ7o",
    "ExecuteTime": {
     "end_time": "2024-03-23T07:31:10.664753Z",
     "start_time": "2024-03-23T07:31:10.660865Z"
    }
   },
   "outputs": [],
   "source": [
    "import os\n",
    "import numpy as np\n",
    "import matplotlib.pyplot as plt\n",
    "import py3Dmol\n",
    "import random\n",
    "\n",
    "from Bio.PDB import PDBParser, PDBList"
   ]
  },
  {
   "cell_type": "code",
   "execution_count": 55,
   "metadata": {
    "executionInfo": {
     "elapsed": 130,
     "status": "ok",
     "timestamp": 1644112155094,
     "user": {
      "displayName": "Michael Duprey",
      "photoUrl": "https://lh3.googleusercontent.com/a-/AOh14GhbSFcjL36v0OKLBQ3jUFBauo0tBLUD-KT_zCMchw=s64",
      "userId": "05498947526580544465"
     },
     "user_tz": 420
    },
    "id": "LoPkRMLYA06C",
    "ExecuteTime": {
     "end_time": "2024-03-23T07:31:10.679316Z",
     "start_time": "2024-03-23T07:31:10.675315Z"
    }
   },
   "outputs": [],
   "source": [
    "parser = PDBParser(PERMISSIVE=1, QUIET=True)"
   ]
  },
  {
   "cell_type": "code",
   "outputs": [
    {
     "name": "stdout",
     "output_type": "stream",
     "text": [
      "Current directory: C:\\Users\\21714\\Desktop\\Code\\AI\\2024_Spring_AI_PJ\\pj1\\data\n"
     ]
    }
   ],
   "source": [
    "print('Current directory:', os.getcwd())"
   ],
   "metadata": {
    "collapsed": false,
    "ExecuteTime": {
     "end_time": "2024-03-23T07:33:41.468546Z",
     "start_time": "2024-03-23T07:33:41.464109Z"
    }
   },
   "execution_count": 62
  },
  {
   "cell_type": "markdown",
   "metadata": {
    "id": "WTIpZjwv3cIk"
   },
   "source": [
    "Define function to render the 3D structure"
   ]
  },
  {
   "cell_type": "code",
   "execution_count": 63,
   "metadata": {
    "executionInfo": {
     "elapsed": 151,
     "status": "ok",
     "timestamp": 1644112016080,
     "user": {
      "displayName": "Michael Duprey",
      "photoUrl": "https://lh3.googleusercontent.com/a-/AOh14GhbSFcjL36v0OKLBQ3jUFBauo0tBLUD-KT_zCMchw=s64",
      "userId": "05498947526580544465"
     },
     "user_tz": 420
    },
    "id": "5T3NbKHRuemd",
    "ExecuteTime": {
     "end_time": "2024-03-23T07:33:45.772439Z",
     "start_time": "2024-03-23T07:33:45.767389Z"
    }
   },
   "outputs": [],
   "source": [
    "def view_mol(file, style=None):\n",
    "    \"\"\"\n",
    "    Given a file path to PDB .ent file, parse it and render the 3D structure\n",
    "    \"\"\"\n",
    "    file_name = os.path.split(file)[1]\n",
    "    structure_id = os.path.splitext(file_name)[0] \n",
    "    structure = parser.get_structure(structure_id, file)\n",
    "    try:\n",
    "        pdb_id = parser.get_header()['idcode']\n",
    "    except KeyError:\n",
    "        pdb_id = parser.get_header()['astral']['Source-PDB']\n",
    "\n",
    "    mol = py3Dmol.view(query='pdb:'+pdb_id)\n",
    "    if style == 'cartoon':\n",
    "        mol.setStyle({'cartoon':{'color':'spectrum', 'arrows':'true'}})\n",
    "    \n",
    "    return mol.render()"
   ]
  },
  {
   "cell_type": "markdown",
   "metadata": {
    "id": "53Lv-_543gV8"
   },
   "source": [
    "## Select files"
   ]
  },
  {
   "cell_type": "markdown",
   "metadata": {
    "id": "zW_xzMIEA-0Y"
   },
   "source": [
    "If PDB files stored on Google Drive"
   ]
  },
  {
   "cell_type": "code",
   "execution_count": 64,
   "metadata": {
    "executionInfo": {
     "elapsed": 134,
     "status": "ok",
     "timestamp": 1644112159215,
     "user": {
      "displayName": "Michael Duprey",
      "photoUrl": "https://lh3.googleusercontent.com/a-/AOh14GhbSFcjL36v0OKLBQ3jUFBauo0tBLUD-KT_zCMchw=s64",
      "userId": "05498947526580544465"
     },
     "user_tz": 420
    },
    "id": "xbWfOZtXzcXn",
    "ExecuteTime": {
     "end_time": "2024-03-23T07:33:47.013948Z",
     "start_time": "2024-03-23T07:33:47.009428Z"
    }
   },
   "outputs": [],
   "source": [
    "file = './SCOP40mini/' + random.choice(os.listdir('./SCOP40mini/'))"
   ]
  },
  {
   "cell_type": "markdown",
   "metadata": {
    "id": "jEO-0aU-BGeE"
   },
   "source": [
    "If downloading from PDB"
   ]
  },
  {
   "cell_type": "code",
   "execution_count": 65,
   "metadata": {
    "colab": {
     "base_uri": "https://localhost:8080/"
    },
    "executionInfo": {
     "elapsed": 730,
     "status": "ok",
     "timestamp": 1644112177493,
     "user": {
      "displayName": "Michael Duprey",
      "photoUrl": "https://lh3.googleusercontent.com/a-/AOh14GhbSFcjL36v0OKLBQ3jUFBauo0tBLUD-KT_zCMchw=s64",
      "userId": "05498947526580544465"
     },
     "user_tz": 420
    },
    "id": "xkemKFXaAmc3",
    "outputId": "f81e4b7b-b7d6-40e5-a24c-48bf3b895e44",
    "ExecuteTime": {
     "end_time": "2024-03-23T07:33:50.156118Z",
     "start_time": "2024-03-23T07:33:50.151672Z"
    }
   },
   "outputs": [
    {
     "name": "stdout",
     "output_type": "stream",
     "text": [
      "Structure exists: 'C:\\Users\\21714\\Desktop\\Code\\AI\\2024_Spring_AI_PJ\\pj1\\data\\a9\\pdb1a9x.ent' \n"
     ]
    }
   ],
   "source": [
    "file = PDBList().retrieve_pdb_file(pdb_code='1a9x', file_format='pdb')"
   ]
  },
  {
   "cell_type": "markdown",
   "metadata": {
    "id": "eTeYVU733kcv"
   },
   "source": [
    "## View files"
   ]
  },
  {
   "cell_type": "code",
   "execution_count": 66,
   "metadata": {
    "colab": {
     "base_uri": "https://localhost:8080/",
     "height": 514
    },
    "executionInfo": {
     "elapsed": 1144,
     "status": "ok",
     "timestamp": 1644112185970,
     "user": {
      "displayName": "Michael Duprey",
      "photoUrl": "https://lh3.googleusercontent.com/a-/AOh14GhbSFcjL36v0OKLBQ3jUFBauo0tBLUD-KT_zCMchw=s64",
      "userId": "05498947526580544465"
     },
     "user_tz": 420
    },
    "id": "TiEoPbkk0nWW",
    "outputId": "83891ffc-fd5b-476f-b373-a60d2a567252",
    "ExecuteTime": {
     "end_time": "2024-03-23T07:33:58.272902Z",
     "start_time": "2024-03-23T07:33:57.697630Z"
    }
   },
   "outputs": [
    {
     "data": {
      "application/3dmoljs_load.v0": "<div id=\"3dmolviewer_17111792382699103\"  style=\"position: relative; width: 640px; height: 480px;\">\n        <p id=\"3dmolwarning_17111792382699103\" style=\"background-color:#ffcccc;color:black\">3Dmol.js failed to load for some reason.  Please check your browser console for error messages.<br></p>\n        </div>\n<script>\n\nvar loadScriptAsync = function(uri){\n  return new Promise((resolve, reject) => {\n    //this is to ignore the existence of requirejs amd\n    var savedexports, savedmodule;\n    if (typeof exports !== 'undefined') savedexports = exports;\n    else exports = {}\n    if (typeof module !== 'undefined') savedmodule = module;\n    else module = {}\n\n    var tag = document.createElement('script');\n    tag.src = uri;\n    tag.async = true;\n    tag.onload = () => {\n        exports = savedexports;\n        module = savedmodule;\n        resolve();\n    };\n  var firstScriptTag = document.getElementsByTagName('script')[0];\n  firstScriptTag.parentNode.insertBefore(tag, firstScriptTag);\n});\n};\n\nif(typeof $3Dmolpromise === 'undefined') {\n$3Dmolpromise = null;\n  $3Dmolpromise = loadScriptAsync('https://cdnjs.cloudflare.com/ajax/libs/3Dmol/2.1.0/3Dmol-min.js');\n}\n\nvar viewer_17111792382699103 = null;\nvar warn = document.getElementById(\"3dmolwarning_17111792382699103\");\nif(warn) {\n    warn.parentNode.removeChild(warn);\n}\n$3Dmolpromise.then(function() {\nviewer_17111792382699103 = $3Dmol.createViewer(document.getElementById(\"3dmolviewer_17111792382699103\"),{backgroundColor:\"white\"});\n$3Dmol.download(\"pdb:1A9X\", viewer_17111792382699103, {}, function() {\nviewer_17111792382699103.zoomTo();\n\tviewer_17111792382699103.setStyle({\"cartoon\": {\"color\": \"spectrum\", \"arrows\": \"true\"}});\n\tviewer_17111792382699103.render();\nviewer_17111792382699103.render();\n})\n});\n</script>",
      "text/html": "<div id=\"3dmolviewer_17111792382699103\"  style=\"position: relative; width: 640px; height: 480px;\">\n        <p id=\"3dmolwarning_17111792382699103\" style=\"background-color:#ffcccc;color:black\">3Dmol.js failed to load for some reason.  Please check your browser console for error messages.<br></p>\n        </div>\n<script>\n\nvar loadScriptAsync = function(uri){\n  return new Promise((resolve, reject) => {\n    //this is to ignore the existence of requirejs amd\n    var savedexports, savedmodule;\n    if (typeof exports !== 'undefined') savedexports = exports;\n    else exports = {}\n    if (typeof module !== 'undefined') savedmodule = module;\n    else module = {}\n\n    var tag = document.createElement('script');\n    tag.src = uri;\n    tag.async = true;\n    tag.onload = () => {\n        exports = savedexports;\n        module = savedmodule;\n        resolve();\n    };\n  var firstScriptTag = document.getElementsByTagName('script')[0];\n  firstScriptTag.parentNode.insertBefore(tag, firstScriptTag);\n});\n};\n\nif(typeof $3Dmolpromise === 'undefined') {\n$3Dmolpromise = null;\n  $3Dmolpromise = loadScriptAsync('https://cdnjs.cloudflare.com/ajax/libs/3Dmol/2.1.0/3Dmol-min.js');\n}\n\nvar viewer_17111792382699103 = null;\nvar warn = document.getElementById(\"3dmolwarning_17111792382699103\");\nif(warn) {\n    warn.parentNode.removeChild(warn);\n}\n$3Dmolpromise.then(function() {\nviewer_17111792382699103 = $3Dmol.createViewer(document.getElementById(\"3dmolviewer_17111792382699103\"),{backgroundColor:\"white\"});\n$3Dmol.download(\"pdb:1A9X\", viewer_17111792382699103, {}, function() {\nviewer_17111792382699103.zoomTo();\n\tviewer_17111792382699103.setStyle({\"cartoon\": {\"color\": \"spectrum\", \"arrows\": \"true\"}});\n\tviewer_17111792382699103.render();\nviewer_17111792382699103.render();\n})\n});\n</script>"
     },
     "metadata": {},
     "output_type": "display_data"
    },
    {
     "data": {
      "text/plain": "<py3Dmol.view at 0x13edc7f2610>"
     },
     "execution_count": 66,
     "metadata": {},
     "output_type": "execute_result"
    }
   ],
   "source": [
    "mol = view_mol(file, style = 'cartoon')\n",
    "mol"
   ]
  },
  {
   "cell_type": "code",
   "execution_count": 58,
   "metadata": {
    "ExecuteTime": {
     "end_time": "2024-03-23T07:31:10.719114Z",
     "start_time": "2024-03-23T07:31:10.713382Z"
    }
   },
   "outputs": [
    {
     "data": {
      "application/3dmoljs_load.v0": "<div id=\"3dmolviewer_1711179070716069\"  style=\"position: relative; width: 640px; height: 480px;\">\n        <p id=\"3dmolwarning_1711179070716069\" style=\"background-color:#ffcccc;color:black\">3Dmol.js failed to load for some reason.  Please check your browser console for error messages.<br></p>\n        </div>\n<script>\n\nvar loadScriptAsync = function(uri){\n  return new Promise((resolve, reject) => {\n    //this is to ignore the existence of requirejs amd\n    var savedexports, savedmodule;\n    if (typeof exports !== 'undefined') savedexports = exports;\n    else exports = {}\n    if (typeof module !== 'undefined') savedmodule = module;\n    else module = {}\n\n    var tag = document.createElement('script');\n    tag.src = uri;\n    tag.async = true;\n    tag.onload = () => {\n        exports = savedexports;\n        module = savedmodule;\n        resolve();\n    };\n  var firstScriptTag = document.getElementsByTagName('script')[0];\n  firstScriptTag.parentNode.insertBefore(tag, firstScriptTag);\n});\n};\n\nif(typeof $3Dmolpromise === 'undefined') {\n$3Dmolpromise = null;\n  $3Dmolpromise = loadScriptAsync('https://cdnjs.cloudflare.com/ajax/libs/3Dmol/2.1.0/3Dmol-min.js');\n}\n\nvar viewer_1711179070716069 = null;\nvar warn = document.getElementById(\"3dmolwarning_1711179070716069\");\nif(warn) {\n    warn.parentNode.removeChild(warn);\n}\n$3Dmolpromise.then(function() {\nviewer_1711179070716069 = $3Dmol.createViewer(document.getElementById(\"3dmolviewer_1711179070716069\"),{backgroundColor:\"white\"});\n$3Dmol.download(\"pdb:1a9x\", viewer_1711179070716069, {}, function() {\nviewer_1711179070716069.zoomTo();\n\tviewer_1711179070716069.setStyle({\"chain\": \"A\"},{\"cartoon\": {\"color\": \"spectrum\"}});\n\tviewer_1711179070716069.addSurface(1,{\"opacity\": 0.7, \"color\": \"white\"},{\"chain\": \"A\"});\n\tviewer_1711179070716069.setStyle({\"chain\": \"B\"},{\"stick\": {}});\nviewer_1711179070716069.render();\n})\n});\n</script>",
      "text/html": "<div id=\"3dmolviewer_1711179070716069\"  style=\"position: relative; width: 640px; height: 480px;\">\n        <p id=\"3dmolwarning_1711179070716069\" style=\"background-color:#ffcccc;color:black\">3Dmol.js failed to load for some reason.  Please check your browser console for error messages.<br></p>\n        </div>\n<script>\n\nvar loadScriptAsync = function(uri){\n  return new Promise((resolve, reject) => {\n    //this is to ignore the existence of requirejs amd\n    var savedexports, savedmodule;\n    if (typeof exports !== 'undefined') savedexports = exports;\n    else exports = {}\n    if (typeof module !== 'undefined') savedmodule = module;\n    else module = {}\n\n    var tag = document.createElement('script');\n    tag.src = uri;\n    tag.async = true;\n    tag.onload = () => {\n        exports = savedexports;\n        module = savedmodule;\n        resolve();\n    };\n  var firstScriptTag = document.getElementsByTagName('script')[0];\n  firstScriptTag.parentNode.insertBefore(tag, firstScriptTag);\n});\n};\n\nif(typeof $3Dmolpromise === 'undefined') {\n$3Dmolpromise = null;\n  $3Dmolpromise = loadScriptAsync('https://cdnjs.cloudflare.com/ajax/libs/3Dmol/2.1.0/3Dmol-min.js');\n}\n\nvar viewer_1711179070716069 = null;\nvar warn = document.getElementById(\"3dmolwarning_1711179070716069\");\nif(warn) {\n    warn.parentNode.removeChild(warn);\n}\n$3Dmolpromise.then(function() {\nviewer_1711179070716069 = $3Dmol.createViewer(document.getElementById(\"3dmolviewer_1711179070716069\"),{backgroundColor:\"white\"});\n$3Dmol.download(\"pdb:1a9x\", viewer_1711179070716069, {}, function() {\nviewer_1711179070716069.zoomTo();\n\tviewer_1711179070716069.setStyle({\"chain\": \"A\"},{\"cartoon\": {\"color\": \"spectrum\"}});\n\tviewer_1711179070716069.addSurface(1,{\"opacity\": 0.7, \"color\": \"white\"},{\"chain\": \"A\"});\n\tviewer_1711179070716069.setStyle({\"chain\": \"B\"},{\"stick\": {}});\nviewer_1711179070716069.render();\n})\n});\n</script>"
     },
     "metadata": {},
     "output_type": "display_data"
    }
   ],
   "source": [
    "view = py3Dmol.view(query='pdb:1a9x')\n",
    "chA = {'chain':'A'}\n",
    "chB = {'chain':'B'}\n",
    "view.setStyle(chA,{'cartoon': {'color':'spectrum'}})\n",
    "view.addSurface(py3Dmol.VDW,{'opacity':0.7,'color':'white'}, chA)\n",
    "view.setStyle(chB,{'stick':{}})\n",
    "view.show()"
   ]
  }
 ],
 "metadata": {
  "accelerator": "GPU",
  "colab": {
   "authorship_tag": "ABX9TyPbA9lVR4r+UcE6VeKoOWuK",
   "collapsed_sections": [],
   "mount_file_id": "139Bvmh33NSqXJ4ymThNgkvN33UNRE-gD",
   "name": "protein-3D.ipynb",
   "provenance": []
  },
  "kernelspec": {
   "display_name": "Python 3 (ipykernel)",
   "language": "python",
   "name": "python3"
  },
  "language_info": {
   "codemirror_mode": {
    "name": "ipython",
    "version": 3
   },
   "file_extension": ".py",
   "mimetype": "text/x-python",
   "name": "python",
   "nbconvert_exporter": "python",
   "pygments_lexer": "ipython3",
   "version": "3.11.4"
  }
 },
 "nbformat": 4,
 "nbformat_minor": 1
}
