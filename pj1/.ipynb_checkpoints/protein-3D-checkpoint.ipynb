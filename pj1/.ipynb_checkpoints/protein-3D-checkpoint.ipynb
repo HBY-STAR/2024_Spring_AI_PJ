{
 "cells": [
  {
   "cell_type": "markdown",
   "metadata": {
    "id": "r3qznmgak2XM"
   },
   "source": [
    "# View protein structure in 3D\n",
    "\n",
    "More visualization options [here](https://colab.research.google.com/drive/1T2zR59TXyWRcNxRgOAiqVPJWhep83NV_?usp=sharing#scrollTo=0N6PEYCyGx5g)."
   ]
  },
  {
   "cell_type": "code",
   "execution_count": 17,
   "metadata": {
    "ExecuteTime": {
     "end_time": "2024-03-23T07:07:54.802604Z",
     "start_time": "2024-03-23T07:07:43.813410Z"
    },
    "executionInfo": {
     "elapsed": 5041,
     "status": "ok",
     "timestamp": 1644112008903,
     "user": {
      "displayName": "Michael Duprey",
      "photoUrl": "https://lh3.googleusercontent.com/a-/AOh14GhbSFcjL36v0OKLBQ3jUFBauo0tBLUD-KT_zCMchw=s64",
      "userId": "05498947526580544465"
     },
     "user_tz": 420
    },
    "id": "wKuId4wiAfxg"
   },
   "outputs": [],
   "source": [
    "! pip install -q biopython\n",
    "! pip install -q py3Dmol"
   ]
  },
  {
   "cell_type": "code",
   "execution_count": 18,
   "metadata": {
    "ExecuteTime": {
     "end_time": "2024-03-23T07:07:54.807242Z",
     "start_time": "2024-03-23T07:07:54.803604Z"
    },
    "executionInfo": {
     "elapsed": 135,
     "status": "ok",
     "timestamp": 1644112153217,
     "user": {
      "displayName": "Michael Duprey",
      "photoUrl": "https://lh3.googleusercontent.com/a-/AOh14GhbSFcjL36v0OKLBQ3jUFBauo0tBLUD-KT_zCMchw=s64",
      "userId": "05498947526580544465"
     },
     "user_tz": 420
    },
    "id": "u5yvkkN3AJ7o"
   },
   "outputs": [],
   "source": [
    "import os\n",
    "import numpy as np\n",
    "import matplotlib.pyplot as plt\n",
    "import py3Dmol\n",
    "import random\n",
    "\n",
    "from Bio.PDB import PDBParser, PDBList"
   ]
  },
  {
   "cell_type": "code",
   "execution_count": 19,
   "metadata": {
    "ExecuteTime": {
     "end_time": "2024-03-23T07:07:54.815321Z",
     "start_time": "2024-03-23T07:07:54.808239Z"
    },
    "executionInfo": {
     "elapsed": 130,
     "status": "ok",
     "timestamp": 1644112155094,
     "user": {
      "displayName": "Michael Duprey",
      "photoUrl": "https://lh3.googleusercontent.com/a-/AOh14GhbSFcjL36v0OKLBQ3jUFBauo0tBLUD-KT_zCMchw=s64",
      "userId": "05498947526580544465"
     },
     "user_tz": 420
    },
    "id": "LoPkRMLYA06C"
   },
   "outputs": [],
   "source": [
    "parser = PDBParser(PERMISSIVE=1, QUIET=True)"
   ]
  },
  {
   "cell_type": "code",
   "execution_count": 20,
   "metadata": {
    "ExecuteTime": {
     "end_time": "2024-03-23T07:07:54.833103Z",
     "start_time": "2024-03-23T07:07:54.816316Z"
    }
   },
   "outputs": [
    {
     "ename": "FileNotFoundError",
     "evalue": "[WinError 2] 系统找不到指定的文件。: './data'",
     "output_type": "error",
     "traceback": [
      "\u001b[1;31m---------------------------------------------------------------------------\u001b[0m",
      "\u001b[1;31mFileNotFoundError\u001b[0m                         Traceback (most recent call last)",
      "Cell \u001b[1;32mIn[20], line 1\u001b[0m\n\u001b[1;32m----> 1\u001b[0m os\u001b[38;5;241m.\u001b[39mchdir(\u001b[38;5;124m'\u001b[39m\u001b[38;5;124m./data\u001b[39m\u001b[38;5;124m'\u001b[39m)\n",
      "\u001b[1;31mFileNotFoundError\u001b[0m: [WinError 2] 系统找不到指定的文件。: './data'"
     ]
    }
   ],
   "source": [
    "os.chdir('./data')"
   ]
  },
  {
   "cell_type": "markdown",
   "metadata": {
    "id": "WTIpZjwv3cIk"
   },
   "source": [
    "Define function to render the 3D structure"
   ]
  },
  {
   "cell_type": "code",
   "execution_count": null,
   "metadata": {
    "ExecuteTime": {
     "start_time": "2024-03-23T07:07:54.834101Z"
    },
    "executionInfo": {
     "elapsed": 151,
     "status": "ok",
     "timestamp": 1644112016080,
     "user": {
      "displayName": "Michael Duprey",
      "photoUrl": "https://lh3.googleusercontent.com/a-/AOh14GhbSFcjL36v0OKLBQ3jUFBauo0tBLUD-KT_zCMchw=s64",
      "userId": "05498947526580544465"
     },
     "user_tz": 420
    },
    "id": "5T3NbKHRuemd"
   },
   "outputs": [],
   "source": [
    "def view_mol(file, style=None):\n",
    "    \"\"\"\n",
    "    Given a file path to PDB .ent file, parse it and render the 3D structure\n",
    "    \"\"\"\n",
    "    file_name = os.path.split(file)[1]\n",
    "    structure_id = os.path.splitext(file_name)[0] \n",
    "    structure = parser.get_structure(structure_id, file)\n",
    "    try:\n",
    "        pdb_id = parser.get_header()['idcode']\n",
    "    except KeyError:\n",
    "        pdb_id = parser.get_header()['astral']['Source-PDB']\n",
    "\n",
    "    mol = py3Dmol.view(query='pdb:'+pdb_id)\n",
    "    if style == 'cartoon':\n",
    "        mol.setStyle({'cartoon':{'color':'spectrum', 'arrows':'true'}})\n",
    "    \n",
    "    return mol.render()"
   ]
  },
  {
   "cell_type": "markdown",
   "metadata": {
    "id": "53Lv-_543gV8"
   },
   "source": [
    "## Select files"
   ]
  },
  {
   "cell_type": "markdown",
   "metadata": {
    "id": "zW_xzMIEA-0Y"
   },
   "source": [
    "If PDB files stored on Google Drive"
   ]
  },
  {
   "cell_type": "code",
   "execution_count": null,
   "metadata": {
    "executionInfo": {
     "elapsed": 134,
     "status": "ok",
     "timestamp": 1644112159215,
     "user": {
      "displayName": "Michael Duprey",
      "photoUrl": "https://lh3.googleusercontent.com/a-/AOh14GhbSFcjL36v0OKLBQ3jUFBauo0tBLUD-KT_zCMchw=s64",
      "userId": "05498947526580544465"
     },
     "user_tz": 420
    },
    "id": "xbWfOZtXzcXn"
   },
   "outputs": [],
   "source": [
    "file = './SCOP40mini/' + random.choice(os.listdir('./SCOP40mini/'))"
   ]
  },
  {
   "cell_type": "markdown",
   "metadata": {
    "id": "jEO-0aU-BGeE"
   },
   "source": [
    "If downloading from PDB"
   ]
  },
  {
   "cell_type": "code",
   "execution_count": null,
   "metadata": {
    "ExecuteTime": {
     "start_time": "2024-03-23T07:07:54.835665Z"
    },
    "colab": {
     "base_uri": "https://localhost:8080/"
    },
    "executionInfo": {
     "elapsed": 730,
     "status": "ok",
     "timestamp": 1644112177493,
     "user": {
      "displayName": "Michael Duprey",
      "photoUrl": "https://lh3.googleusercontent.com/a-/AOh14GhbSFcjL36v0OKLBQ3jUFBauo0tBLUD-KT_zCMchw=s64",
      "userId": "05498947526580544465"
     },
     "user_tz": 420
    },
    "id": "xkemKFXaAmc3",
    "outputId": "f81e4b7b-b7d6-40e5-a24c-48bf3b895e44"
   },
   "outputs": [],
   "source": [
    "file = PDBList().retrieve_pdb_file(pdb_code='1a9x', file_format='pdb')"
   ]
  },
  {
   "cell_type": "markdown",
   "metadata": {
    "id": "eTeYVU733kcv"
   },
   "source": [
    "## View files"
   ]
  },
  {
   "cell_type": "code",
   "execution_count": null,
   "metadata": {
    "ExecuteTime": {
     "start_time": "2024-03-23T07:07:54.836912Z"
    },
    "colab": {
     "base_uri": "https://localhost:8080/",
     "height": 514
    },
    "executionInfo": {
     "elapsed": 1144,
     "status": "ok",
     "timestamp": 1644112185970,
     "user": {
      "displayName": "Michael Duprey",
      "photoUrl": "https://lh3.googleusercontent.com/a-/AOh14GhbSFcjL36v0OKLBQ3jUFBauo0tBLUD-KT_zCMchw=s64",
      "userId": "05498947526580544465"
     },
     "user_tz": 420
    },
    "id": "TiEoPbkk0nWW",
    "outputId": "83891ffc-fd5b-476f-b373-a60d2a567252"
   },
   "outputs": [],
   "source": [
    "mol = view_mol(file, style = 'cartoon')\n",
    "mol"
   ]
  },
  {
   "cell_type": "code",
   "execution_count": null,
   "metadata": {},
   "outputs": [],
   "source": [
    "view = py3Dmol.view(query='pdb:1a9x')\n",
    "chA = {'chain':'A'}\n",
    "chB = {'chain':'B'}\n",
    "view.setStyle(chA,{'cartoon': {'color':'spectrum'}})\n",
    "view.addSurface(py3Dmol.VDW,{'opacity':0.7,'color':'white'}, chA)\n",
    "view.setStyle(chB,{'stick':{}})\n",
    "view.show()"
   ]
  },
  {
   "cell_type": "code",
   "execution_count": null,
   "metadata": {
    "ExecuteTime": {
     "start_time": "2024-03-23T07:07:54.839934Z"
    }
   },
   "outputs": [],
   "source": []
  },
  {
   "cell_type": "code",
   "execution_count": 13,
   "metadata": {
    "ExecuteTime": {
     "end_time": "2024-03-23T07:07:03.795721Z",
     "start_time": "2024-03-23T07:07:03.793722Z"
    }
   },
   "outputs": [],
   "source": []
  },
  {
   "cell_type": "code",
   "execution_count": null,
   "metadata": {},
   "outputs": [],
   "source": []
  }
 ],
 "metadata": {
  "accelerator": "GPU",
  "colab": {
   "authorship_tag": "ABX9TyPbA9lVR4r+UcE6VeKoOWuK",
   "collapsed_sections": [],
   "mount_file_id": "139Bvmh33NSqXJ4ymThNgkvN33UNRE-gD",
   "name": "protein-3D.ipynb",
   "provenance": []
  },
  "kernelspec": {
   "display_name": "Python 3 (ipykernel)",
   "language": "python",
   "name": "python3"
  },
  "language_info": {
   "codemirror_mode": {
    "name": "ipython",
    "version": 3
   },
   "file_extension": ".py",
   "mimetype": "text/x-python",
   "name": "python",
   "nbconvert_exporter": "python",
   "pygments_lexer": "ipython3",
   "version": "3.11.4"
  }
 },
 "nbformat": 4,
 "nbformat_minor": 1
}
